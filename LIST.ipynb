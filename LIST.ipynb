{
  "nbformat": 4,
  "nbformat_minor": 0,
  "metadata": {
    "colab": {
      "provenance": [],
      "authorship_tag": "ABX9TyMj3Q41VfPKnqzX/oezqcSl",
      "include_colab_link": true
    },
    "kernelspec": {
      "name": "python3",
      "display_name": "Python 3"
    },
    "language_info": {
      "name": "python"
    }
  },
  "cells": [
    {
      "cell_type": "markdown",
      "metadata": {
        "id": "view-in-github",
        "colab_type": "text"
      },
      "source": [
        "<a href=\"https://colab.research.google.com/github/RahulChandraNagu/Python-/blob/main/LIST.ipynb\" target=\"_parent\"><img src=\"https://colab.research.google.com/assets/colab-badge.svg\" alt=\"Open In Colab\"/></a>"
      ]
    },
    {
      "cell_type": "code",
      "execution_count": 1,
      "metadata": {
        "colab": {
          "base_uri": "https://localhost:8080/"
        },
        "id": "_Dz08wY23-LE",
        "outputId": "8246bbbc-0c57-475a-da11-3f3a808731b3"
      },
      "outputs": [
        {
          "output_type": "stream",
          "name": "stdout",
          "text": [
            "['1', '2', 1, 2, 0, '3']\n"
          ]
        }
      ],
      "source": [
        "l = ['1','2',1,2,0]\n",
        "l += '3'\n",
        "print(l)"
      ]
    },
    {
      "cell_type": "code",
      "source": [
        "l.insert(2,'abc')\n",
        "print(l)"
      ],
      "metadata": {
        "colab": {
          "base_uri": "https://localhost:8080/"
        },
        "id": "-4L_Qnwf3_Eo",
        "outputId": "a00f24e3-b6b3-4324-c58d-917d0605fb98"
      },
      "execution_count": 2,
      "outputs": [
        {
          "output_type": "stream",
          "name": "stdout",
          "text": [
            "['1', '2', 'abc', 1, 2, 0, '3']\n"
          ]
        }
      ]
    },
    {
      "cell_type": "code",
      "source": [
        "l.extend([4,8,'d','g'])\n",
        "print(l)"
      ],
      "metadata": {
        "colab": {
          "base_uri": "https://localhost:8080/"
        },
        "id": "xkVjAm443_HR",
        "outputId": "3f719d7d-aae2-40a9-ba91-c98340aec1f9"
      },
      "execution_count": 3,
      "outputs": [
        {
          "output_type": "stream",
          "name": "stdout",
          "text": [
            "['1', '2', 'abc', 1, 2, 0, '3', 4, 8, 'd', 'g']\n"
          ]
        }
      ]
    },
    {
      "cell_type": "code",
      "source": [
        "len(l)\n"
      ],
      "metadata": {
        "colab": {
          "base_uri": "https://localhost:8080/"
        },
        "id": "IqJnNXbO3_Jf",
        "outputId": "693105a2-2689-4f01-df44-5485d1ffc374"
      },
      "execution_count": 4,
      "outputs": [
        {
          "output_type": "execute_result",
          "data": {
            "text/plain": [
              "11"
            ]
          },
          "metadata": {},
          "execution_count": 4
        }
      ]
    },
    {
      "cell_type": "code",
      "source": [
        "l.append(3)\n",
        "l"
      ],
      "metadata": {
        "colab": {
          "base_uri": "https://localhost:8080/"
        },
        "id": "dpCxZhLR3_L1",
        "outputId": "2d0ffd77-2c8a-451a-94d5-59bc628edb8c"
      },
      "execution_count": 7,
      "outputs": [
        {
          "output_type": "execute_result",
          "data": {
            "text/plain": [
              "['1', '2', 'abc', 1, 2, 0, '3', 4, 8, 'd', 'g', 4, 4, 3]"
            ]
          },
          "metadata": {},
          "execution_count": 7
        }
      ]
    },
    {
      "cell_type": "code",
      "source": [
        "l.remove(4)\n",
        "l"
      ],
      "metadata": {
        "colab": {
          "base_uri": "https://localhost:8080/"
        },
        "id": "vtgPs9h23_OT",
        "outputId": "dbabbf13-1a65-4227-b322-4f97c754059e"
      },
      "execution_count": 8,
      "outputs": [
        {
          "output_type": "execute_result",
          "data": {
            "text/plain": [
              "['1', '2', 'abc', 1, 2, 0, '3', 8, 'd', 'g', 4, 4, 3]"
            ]
          },
          "metadata": {},
          "execution_count": 8
        }
      ]
    },
    {
      "cell_type": "code",
      "source": [
        "l.reverse()\n",
        "l"
      ],
      "metadata": {
        "colab": {
          "base_uri": "https://localhost:8080/"
        },
        "id": "HdJ5laKP3_Qu",
        "outputId": "9a417a9d-c544-44c2-ca06-e73f60a63b55"
      },
      "execution_count": 9,
      "outputs": [
        {
          "output_type": "execute_result",
          "data": {
            "text/plain": [
              "[3, 4, 4, 'g', 'd', 8, '3', 0, 2, 1, 'abc', '2', '1']"
            ]
          },
          "metadata": {},
          "execution_count": 9
        }
      ]
    },
    {
      "cell_type": "code",
      "source": [
        "l.pop(8)\n",
        "l"
      ],
      "metadata": {
        "colab": {
          "base_uri": "https://localhost:8080/"
        },
        "id": "utROvwB53_UM",
        "outputId": "6d67b508-66fb-44dc-da99-92bf9182d0fe"
      },
      "execution_count": 10,
      "outputs": [
        {
          "output_type": "execute_result",
          "data": {
            "text/plain": [
              "[3, 4, 4, 'g', 'd', 8, '3', 0, 1, 'abc', '2', '1']"
            ]
          },
          "metadata": {},
          "execution_count": 10
        }
      ]
    },
    {
      "cell_type": "code",
      "source": [
        "l.insert(1,6)\n",
        "l"
      ],
      "metadata": {
        "colab": {
          "base_uri": "https://localhost:8080/"
        },
        "id": "wtV1vM6SBUfH",
        "outputId": "f703a7f9-e05b-4d93-9e87-45b083a8624b"
      },
      "execution_count": 12,
      "outputs": [
        {
          "output_type": "execute_result",
          "data": {
            "text/plain": [
              "[3, 6, 4, 4, 'g', 'd', 8, '3', 0, 1, 'abc', '2', '1']"
            ]
          },
          "metadata": {},
          "execution_count": 12
        }
      ]
    },
    {
      "cell_type": "code",
      "source": [
        "l.count(4)"
      ],
      "metadata": {
        "colab": {
          "base_uri": "https://localhost:8080/"
        },
        "id": "omDR4GHnBUiH",
        "outputId": "eaddce2f-a1ff-4fea-c231-a4482fe9f3d9"
      },
      "execution_count": 20,
      "outputs": [
        {
          "output_type": "execute_result",
          "data": {
            "text/plain": [
              "2"
            ]
          },
          "metadata": {},
          "execution_count": 20
        }
      ]
    },
    {
      "cell_type": "code",
      "source": [
        "l.extend([3,4,6,8,9])\n",
        "l"
      ],
      "metadata": {
        "colab": {
          "base_uri": "https://localhost:8080/"
        },
        "id": "8R0uTWRdBUmm",
        "outputId": "b447996d-2092-4fea-e115-38656cc5208c"
      },
      "execution_count": 22,
      "outputs": [
        {
          "output_type": "execute_result",
          "data": {
            "text/plain": [
              "[3, 6, 4, 4, 'g', 'd', 8, '3', 0, 1, 'abc', '2', '1', 3, 4, 6, 8, 9]"
            ]
          },
          "metadata": {},
          "execution_count": 22
        }
      ]
    },
    {
      "cell_type": "code",
      "source": [
        "m = [4, 7, 0, 19]\n",
        "k = (l+m)\n",
        "k"
      ],
      "metadata": {
        "colab": {
          "base_uri": "https://localhost:8080/"
        },
        "id": "uR3zDhuXBUo7",
        "outputId": "373c4dfe-8aab-4e85-d858-56d19ea5355b"
      },
      "execution_count": 25,
      "outputs": [
        {
          "output_type": "execute_result",
          "data": {
            "text/plain": [
              "[3,\n",
              " 6,\n",
              " 4,\n",
              " 4,\n",
              " 'g',\n",
              " 'd',\n",
              " 8,\n",
              " '3',\n",
              " 0,\n",
              " 1,\n",
              " 'abc',\n",
              " '2',\n",
              " '1',\n",
              " 3,\n",
              " 4,\n",
              " 6,\n",
              " 8,\n",
              " 9,\n",
              " 4,\n",
              " 7,\n",
              " 0,\n",
              " 19,\n",
              " 4,\n",
              " 7,\n",
              " 0,\n",
              " 19,\n",
              " 4,\n",
              " 7,\n",
              " 0,\n",
              " 19]"
            ]
          },
          "metadata": {},
          "execution_count": 25
        }
      ]
    },
    {
      "cell_type": "code",
      "source": [
        "m = m*2\n",
        "m"
      ],
      "metadata": {
        "colab": {
          "base_uri": "https://localhost:8080/"
        },
        "id": "i8LjkzwtBUra",
        "outputId": "6b2a0828-a72b-46e6-bd7b-a85b765582df"
      },
      "execution_count": 26,
      "outputs": [
        {
          "output_type": "execute_result",
          "data": {
            "text/plain": [
              "[4, 7, 0, 19, 4, 7, 0, 19]"
            ]
          },
          "metadata": {},
          "execution_count": 26
        }
      ]
    },
    {
      "cell_type": "code",
      "source": [],
      "metadata": {
        "id": "i6Cod2TMBUuI"
      },
      "execution_count": null,
      "outputs": []
    },
    {
      "cell_type": "code",
      "source": [
        "def square(number):\n",
        "  return number ** 2\n",
        "\n",
        "numbers = [1,2,3,4,5]\n",
        "\n",
        "squared = map(square,numbers)\n",
        "\n",
        "list(squared)"
      ],
      "metadata": {
        "colab": {
          "base_uri": "https://localhost:8080/"
        },
        "id": "VFWhh8gHczl3",
        "outputId": "3cab8ab6-5369-4d3b-dc6d-893bbe945e21"
      },
      "execution_count": 1,
      "outputs": [
        {
          "output_type": "execute_result",
          "data": {
            "text/plain": [
              "[1, 4, 9, 16, 25]"
            ]
          },
          "metadata": {},
          "execution_count": 1
        }
      ]
    },
    {
      "cell_type": "code",
      "source": [],
      "metadata": {
        "id": "5VgKVNQkczie"
      },
      "execution_count": null,
      "outputs": []
    },
    {
      "cell_type": "code",
      "source": [],
      "metadata": {
        "id": "JGlaifL7czfO"
      },
      "execution_count": null,
      "outputs": []
    },
    {
      "cell_type": "code",
      "source": [],
      "metadata": {
        "id": "IFQw7xyNczcu"
      },
      "execution_count": null,
      "outputs": []
    },
    {
      "cell_type": "code",
      "source": [],
      "metadata": {
        "id": "3_Xm6cAABUxd"
      },
      "execution_count": null,
      "outputs": []
    }
  ]
}
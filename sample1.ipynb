{
  "nbformat": 4,
  "nbformat_minor": 0,
  "metadata": {
    "colab": {
      "provenance": []
    },
    "kernelspec": {
      "name": "python3",
      "display_name": "Python 3"
    },
    "language_info": {
      "name": "python"
    }
  },
  "cells": [
    {
      "cell_type": "code",
      "execution_count": 4,
      "metadata": {
        "colab": {
          "base_uri": "https://localhost:8080/"
        },
        "id": "YWLIb6uqPTQJ",
        "outputId": "8197c40d-469c-4180-b816-b60cb0cc7492"
      },
      "outputs": [
        {
          "output_type": "execute_result",
          "data": {
            "text/plain": [
              "[1, 2, 3, 0, 0, 0, 2, 5, 6]"
            ]
          },
          "metadata": {},
          "execution_count": 4
        }
      ],
      "source": [
        "num1 = [1,2,3,0,0,0]\n",
        "m = 3\n",
        "num2 = [2,5,6]\n",
        "n = 3\n",
        "\n",
        "num3 = num1 + num2\n",
        "num3"
      ]
    },
    {
      "cell_type": "code",
      "source": [],
      "metadata": {
        "id": "n3aA2_JFPiwt"
      },
      "execution_count": null,
      "outputs": []
    },
    {
      "cell_type": "code",
      "source": [],
      "metadata": {
        "id": "AR2TeHX6Pi0B"
      },
      "execution_count": null,
      "outputs": []
    },
    {
      "cell_type": "code",
      "source": [],
      "metadata": {
        "id": "2_ECdLOvPi4E"
      },
      "execution_count": null,
      "outputs": []
    },
    {
      "cell_type": "code",
      "source": [],
      "metadata": {
        "id": "-q_dXu2YPi6n"
      },
      "execution_count": null,
      "outputs": []
    },
    {
      "cell_type": "code",
      "source": [],
      "metadata": {
        "id": "A3cL6Vp5Pi89"
      },
      "execution_count": null,
      "outputs": []
    },
    {
      "cell_type": "code",
      "source": [],
      "metadata": {
        "id": "JrzRFMLxPjAO"
      },
      "execution_count": null,
      "outputs": []
    },
    {
      "cell_type": "code",
      "source": [],
      "metadata": {
        "id": "RJccryiIPjDq"
      },
      "execution_count": null,
      "outputs": []
    }
  ]
}